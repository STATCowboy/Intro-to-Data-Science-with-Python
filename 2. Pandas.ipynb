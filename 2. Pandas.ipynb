{
 "cells": [
  {
   "cell_type": "markdown",
   "metadata": {},
   "source": [
    "# Intro to Pandas\n",
    "Pandas is the primary Python library for doing basic data analysis. If you are a data scientist, much of your life will be spent manipulating data in Pandas. Pandas provides a nice layering on top of NumPy to make data analysis much easier. In particular, the primary data structure, the DataFrame provides labels for both the rows and the columns. This makes for much easier access to the elements within.\n",
    "\n",
    "### Kaggle Competition Housing Data\n",
    "We will use housing data from the state of Iowa used in an ongoing [kaggle competition][1]. Make sure to check out the [data dictionary][2] to understand what each value in each column means.\n",
    "\n",
    "[1]: https://www.kaggle.com/c/house-prices-advanced-regression-techniques\n",
    "[2]: https://www.kaggle.com/c/house-prices-advanced-regression-techniques/data"
   ]
  },
  {
   "cell_type": "code",
   "execution_count": null,
   "metadata": {},
   "outputs": [],
   "source": [
    "import pandas as pd"
   ]
  },
  {
   "cell_type": "code",
   "execution_count": null,
   "metadata": {},
   "outputs": [],
   "source": [
    "# read in the data\n",
    "housing = pd.read_csv('data/housing.csv')"
   ]
  },
  {
   "cell_type": "code",
   "execution_count": null,
   "metadata": {},
   "outputs": [],
   "source": [
    "pd.options.display.max_columns = 100"
   ]
  },
  {
   "cell_type": "code",
   "execution_count": null,
   "metadata": {},
   "outputs": [],
   "source": [
    "housing.head()"
   ]
  },
  {
   "cell_type": "markdown",
   "metadata": {},
   "source": [
    "# Components of the DataFrame\n",
    "The vast majority of an analysis takes place inside a DataFrame. There are three components to a DataFrame, the **index**, the **columns** and the **data** or **values**. The index labels the rows, the column names label the columns and the data are the actual values that we manipulate during an analysis.\n",
    "\n",
    "![anatomy](./images/Components of a DataFrame.png)"
   ]
  },
  {
   "cell_type": "markdown",
   "metadata": {},
   "source": [
    "### DataFrame attributes and methods\n",
    "Like NumPy arrays, much of the power of the DataFrame is done with method calls."
   ]
  },
  {
   "cell_type": "markdown",
   "metadata": {},
   "source": [
    "## DataFrame Attributes\n",
    "\n",
    "### Column data types\n",
    "A very important attribute is **`dtypes`** which returns the data type of each column. It is imperative to know the data type of each column.\n",
    "\n",
    "### Main data types\n",
    "* bool\n",
    "* int\n",
    "* float\n",
    "* object\n",
    "* datetime\n",
    "\n",
    "The vast majority of columns will be one of the above data types"
   ]
  },
  {
   "cell_type": "code",
   "execution_count": null,
   "metadata": {},
   "outputs": [],
   "source": [
    "housing.dtypes"
   ]
  },
  {
   "cell_type": "code",
   "execution_count": null,
   "metadata": {},
   "outputs": [],
   "source": [
    "housing.shape"
   ]
  },
  {
   "cell_type": "markdown",
   "metadata": {},
   "source": [
    "### DataFrame methods"
   ]
  },
  {
   "cell_type": "code",
   "execution_count": null,
   "metadata": {},
   "outputs": [],
   "source": [
    "# by default, it only outputs summary stats for numeric columns\n",
    "housing.describe()"
   ]
  },
  {
   "cell_type": "code",
   "execution_count": null,
   "metadata": {},
   "outputs": [],
   "source": [
    "housing.describe(include='object')"
   ]
  },
  {
   "cell_type": "markdown",
   "metadata": {},
   "source": [
    "# Categorical vs Continuous\n",
    "Data can be categorized into two broad types. Data that is discrete and countable is called **categorical**. These variables usually have strings as values but sometimes numeric values like year or age may be considered categorical. **Continuous** variables on the other hand are always numeric. Lot size or sale price are examples of continuous variables."
   ]
  },
  {
   "cell_type": "markdown",
   "metadata": {},
   "source": [
    "## Selecting Single Columns of Data - A Series\n",
    "Each column of data may be selected with the indexing operator and a passed string name. A pandas Series is a single dimensional data structure with an index and values. It has no columns"
   ]
  },
  {
   "cell_type": "code",
   "execution_count": null,
   "metadata": {},
   "outputs": [],
   "source": [
    "# Grab single columns\n",
    "sale_price = housing['SalePrice']\n",
    "sale_price.head(10)"
   ]
  },
  {
   "cell_type": "markdown",
   "metadata": {},
   "source": [
    "![](images/Components of a Series.png)"
   ]
  },
  {
   "cell_type": "markdown",
   "metadata": {},
   "source": [
    "### Series and DataFrame methods overlap\n",
    "Series are just a single column of data and have most of its methods in common with the DataFrame."
   ]
  },
  {
   "cell_type": "markdown",
   "metadata": {},
   "source": [
    "### Counting the values of categorical data\n",
    "The **`value_counts`** method (unique to Series) is valuable for getting an idea of the distribution of categorical variables."
   ]
  },
  {
   "cell_type": "code",
   "execution_count": null,
   "metadata": {},
   "outputs": [],
   "source": [
    "year_built = housing['YearBuilt']"
   ]
  },
  {
   "cell_type": "code",
   "execution_count": null,
   "metadata": {},
   "outputs": [],
   "source": [
    "year_built.value_counts().head()"
   ]
  },
  {
   "cell_type": "code",
   "execution_count": null,
   "metadata": {},
   "outputs": [],
   "source": [
    "overall_qual = housing['OverallQual']\n",
    "overall_qual.value_counts()"
   ]
  },
  {
   "cell_type": "markdown",
   "metadata": {},
   "source": [
    "## Grouping and Aggregating\n",
    "One of the most common operations during an analysis is to divide the data into groups and aggregate some other dimension of data.\n",
    "\n",
    "![](images/split-apply-combine small.png)\n",
    "\n",
    "### The three components of a groupby aggregation\n",
    "* **Grouping Column** - Column whose unique values form groups\n",
    "* **Aggregating Column** - Column whose values we are going to aggregate (return a single value from)\n",
    "* **Aggregating Function** - The type of aggregation. i.e. sum, min, max, median, etc...\n",
    "\n",
    "#### Syntax\n",
    "`df.groupby('grouping column').agg({'aggregating column': 'aggregating function'})`\n",
    "\n",
    "Below, we find the average price of each home by the overall quality"
   ]
  },
  {
   "cell_type": "code",
   "execution_count": null,
   "metadata": {},
   "outputs": [],
   "source": [
    "housing.groupby('OverallQual').agg({'SalePrice': 'mean'}).astype('int')"
   ]
  },
  {
   "cell_type": "markdown",
   "metadata": {},
   "source": [
    "## Plotting directly from a Pandas DataFrame\n",
    "DataFrames conveniently provide a plot method to directly plot without directly using matplotlib."
   ]
  },
  {
   "cell_type": "code",
   "execution_count": null,
   "metadata": {},
   "outputs": [],
   "source": [
    "%matplotlib inline"
   ]
  },
  {
   "cell_type": "code",
   "execution_count": null,
   "metadata": {},
   "outputs": [],
   "source": [
    "housing.plot(kind='scatter', x='GrLivArea', y='SalePrice',figsize=(12,6))"
   ]
  }
 ],
 "metadata": {
  "kernelspec": {
   "display_name": "Python 3",
   "language": "python",
   "name": "python3"
  },
  "language_info": {
   "codemirror_mode": {
    "name": "ipython",
    "version": 3
   },
   "file_extension": ".py",
   "mimetype": "text/x-python",
   "name": "python",
   "nbconvert_exporter": "python",
   "pygments_lexer": "ipython3",
   "version": "3.6.4"
  }
 },
 "nbformat": 4,
 "nbformat_minor": 2
}
