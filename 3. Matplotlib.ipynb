{
 "cells": [
  {
   "cell_type": "markdown",
   "metadata": {},
   "source": [
    "# Matplotlib intro\n",
    "Matplotlib is one of the older libraries of the Python Data Science stack. It was built to mimic the plotting syntax of Matlab. The library can be frustrating to work with as their two different ways to interact with it. \n",
    "\n",
    "### Resources\n",
    "* [Matplotlib documentation](https://matplotlib.org/index.html)\n",
    "* [Matplotlib User Guide](https://matplotlib.org/tutorials/introductory/usage.html)\n",
    "\n",
    "\n",
    "\n",
    "## Figure, Axes Hierarchy\n",
    "The most fundamental thing to know about Maplotlib is the Figure, Axes hierarchy. The Figure is the outermost object and contains all of the Axes. An Axes is a plotting surface (and not the plural of the word axis). The vast majority of the work will be done with the Axes object.\n",
    "\n",
    "![](images/fig_map.png)\n",
    "\n",
    "## Object-Oriented Approach\n",
    "In this tutorial we will cover the **object oriented interface** where the Figure and each Axes are created first. We then call methods directly from these objects to make additions to our plots.\n",
    "\n",
    "Before making any plots you must run the magic command %matplotlib inline to have them embedded in the notebooks."
   ]
  },
  {
   "cell_type": "code",
   "execution_count": null,
   "metadata": {},
   "outputs": [],
   "source": [
    "import matplotlib.pyplot as plt\n",
    "import pandas as pd"
   ]
  },
  {
   "cell_type": "markdown",
   "metadata": {},
   "source": [
    "## Create a Figure and array of Axes\n",
    "The easiest way to create a Figure and multiple Axes at the same time is with the **`subplots`** function."
   ]
  },
  {
   "cell_type": "code",
   "execution_count": null,
   "metadata": {},
   "outputs": [],
   "source": [
    "fig, ax_array = plt.subplots(2, 3, figsize=(12, 6))\n",
    "fig"
   ]
  },
  {
   "cell_type": "code",
   "execution_count": null,
   "metadata": {},
   "outputs": [],
   "source": [
    "type(ax_array)"
   ]
  },
  {
   "cell_type": "code",
   "execution_count": null,
   "metadata": {},
   "outputs": [],
   "source": [
    "ax_array"
   ]
  },
  {
   "cell_type": "markdown",
   "metadata": {},
   "source": [
    "### Assign each Axes to a separate variable"
   ]
  },
  {
   "cell_type": "code",
   "execution_count": null,
   "metadata": {},
   "outputs": [],
   "source": [
    "ax1 = ax_array[0, 0]\n",
    "ax2 = ax_array[0, 1]\n",
    "ax3 = ax_array[0, 2]\n",
    "ax4 = ax_array[1, 0]\n",
    "ax5 = ax_array[1, 1]\n",
    "ax6 = ax_array[1, 2]"
   ]
  },
  {
   "cell_type": "markdown",
   "metadata": {},
   "source": [
    "## Change Properties of the Figure\n",
    "To help distinguish the Figure from the Axes we can set its color to green."
   ]
  },
  {
   "cell_type": "code",
   "execution_count": null,
   "metadata": {},
   "outputs": [],
   "source": [
    "fig.set_facecolor('green')\n",
    "fig"
   ]
  },
  {
   "cell_type": "markdown",
   "metadata": {},
   "source": [
    "### Using getter and setter methods\n",
    "Matplotlib objects have many methods that begin with either **`get_`** or **`set_`**. These either retrieve a property or change a property."
   ]
  },
  {
   "cell_type": "code",
   "execution_count": null,
   "metadata": {},
   "outputs": [],
   "source": [
    "fig.get_facecolor()"
   ]
  },
  {
   "cell_type": "code",
   "execution_count": null,
   "metadata": {},
   "outputs": [],
   "source": [
    "fig.get_figwidth()"
   ]
  },
  {
   "cell_type": "code",
   "execution_count": null,
   "metadata": {},
   "outputs": [],
   "source": [
    "fig.get_figheight()"
   ]
  },
  {
   "cell_type": "markdown",
   "metadata": {},
   "source": [
    "### Get all properties"
   ]
  },
  {
   "cell_type": "code",
   "execution_count": null,
   "metadata": {},
   "outputs": [],
   "source": [
    "fig.properties()"
   ]
  },
  {
   "cell_type": "markdown",
   "metadata": {},
   "source": [
    "### Distinguish each Axes\n",
    "Axes also have getter and setter methods. They also have other methods like **`text`** which adds a new object to the graph."
   ]
  },
  {
   "cell_type": "code",
   "execution_count": null,
   "metadata": {},
   "outputs": [],
   "source": [
    "ax1.set_facecolor('orange')\n",
    "ax1.text(.4, .5, \"Axes 1\")\n",
    "fig"
   ]
  },
  {
   "cell_type": "code",
   "execution_count": null,
   "metadata": {},
   "outputs": [],
   "source": [
    "ax2.set_facecolor('blue')\n",
    "ax2.text(.4, .5, \"Axes 2\")\n",
    "\n",
    "ax3.set_facecolor('burlywood')\n",
    "ax3.text(.4, .5, \"Axes 3\", fontsize=20)\n",
    "\n",
    "ax4.set_facecolor('lightgreen')\n",
    "ax4.text(.4, .5, \"Axes 4\", rotation=30)\n",
    "\n",
    "\n",
    "ax5.set_facecolor('.7')\n",
    "ax5.text(.4, .5, \"Axes 5\", color='darkred', fontsize=30)\n",
    "\n",
    "ax6.set_facecolor('red')\n",
    "ax6.text(.1, .5, \"Axes 6\", )\n",
    "\n",
    "fig"
   ]
  },
  {
   "cell_type": "code",
   "execution_count": null,
   "metadata": {},
   "outputs": [],
   "source": [
    "ax1.vlines(x=[.2, .6, .7], \n",
    "           ymin=[.1, .3, .4], \n",
    "           ymax=[.8, .5, .7], \n",
    "           color=['Brown', 'Lavender', 'Lime'], \n",
    "           linewidth=[5, 10, 15])\n",
    "fig"
   ]
  },
  {
   "cell_type": "markdown",
   "metadata": {},
   "source": [
    "## Know what parameters are available - Use the API\n",
    "Use the [Matplotlib API][1] to find the section of the documentation that explains what parameters are possible. There are also useful [tutorials][2].\n",
    "* [Text Properties][3]\n",
    "* [Color Tutorial][4]\n",
    "* [Lines][5]\n",
    "\n",
    "[1]: https://matplotlib.org/api/index.html\n",
    "[2]: https://matplotlib.org/tutorials/index.html\n",
    "[3]: https://matplotlib.org/api/text_api.html#matplotlib.text.Text\n",
    "[4]: https://matplotlib.org/tutorials/colors/colors.html#sphx-glr-tutorials-colors-colors-py\n",
    "[5]: https://matplotlib.org/api/_as_gen/matplotlib.lines.Line2D.html#matplotlib.lines.Line2D"
   ]
  },
  {
   "cell_type": "markdown",
   "metadata": {},
   "source": [
    "## Plotting with Data"
   ]
  },
  {
   "cell_type": "code",
   "execution_count": null,
   "metadata": {},
   "outputs": [],
   "source": [
    "import numpy as np"
   ]
  },
  {
   "cell_type": "code",
   "execution_count": null,
   "metadata": {},
   "outputs": [],
   "source": [
    "fig2, ax_array2 = plt.subplots(2, 2, figsize=(12, 8))\n",
    "ax1 = ax_array2[0, 0]\n",
    "ax2 = ax_array2[0, 1]\n",
    "ax3 = ax_array2[1, 0]\n",
    "ax4 = ax_array2[1, 1]\n",
    "fig2"
   ]
  },
  {
   "cell_type": "markdown",
   "metadata": {},
   "source": [
    "## Types of Plots\n",
    "There are a huge number of plots you can create. View them beginning with the basics [here at the Axes api](https://matplotlib.org/api/axes_api.html#basic). Just a few are placed in the list below:\n",
    "\n",
    "* `plot` - Creates a line plot\n",
    "* `bar` - \n",
    "* `pie`\n",
    "* `boxplot`\n",
    "* `hist` - histogram"
   ]
  },
  {
   "cell_type": "code",
   "execution_count": null,
   "metadata": {},
   "outputs": [],
   "source": [
    "x = np.arange(-5, 5)\n",
    "y = x ** 2"
   ]
  },
  {
   "cell_type": "code",
   "execution_count": null,
   "metadata": {},
   "outputs": [],
   "source": [
    "ax1.plot(x, y)\n",
    "fig2"
   ]
  },
  {
   "cell_type": "markdown",
   "metadata": {},
   "source": [
    "## Pandas Integration\n",
    "Pass a Pandas DataFrame to the **`data`** parameter. Then use **`x`** and **`y`** to refer to column names."
   ]
  },
  {
   "cell_type": "code",
   "execution_count": null,
   "metadata": {},
   "outputs": [],
   "source": [
    "housing = pd.read_csv('data/housing.csv')\n",
    "housing.head()"
   ]
  },
  {
   "cell_type": "code",
   "execution_count": null,
   "metadata": {},
   "outputs": [],
   "source": [
    "housing['Sa']"
   ]
  },
  {
   "cell_type": "code",
   "execution_count": null,
   "metadata": {},
   "outputs": [],
   "source": [
    "ax2.scatter(x='GrLivArea', y='SalePrice', data=housing)\n",
    "fig2"
   ]
  },
  {
   "cell_type": "code",
   "execution_count": null,
   "metadata": {},
   "outputs": [],
   "source": [
    "ax3.hist(x='OverallQual', data=housing)\n",
    "fig2"
   ]
  },
  {
   "cell_type": "code",
   "execution_count": null,
   "metadata": {},
   "outputs": [],
   "source": [
    "ax4.violinplot('GrLivArea', data=housing)\n",
    "fig2"
   ]
  },
  {
   "cell_type": "markdown",
   "metadata": {},
   "source": [
    "## Create a Basketball Court with patches"
   ]
  },
  {
   "cell_type": "code",
   "execution_count": null,
   "metadata": {},
   "outputs": [],
   "source": [
    "from matplotlib.patches import Circle, Arc\n",
    "\n",
    "fig, ax = plt.subplots(figsize=(12, 6))\n",
    "\n",
    "ax.set_xlim(-20, 960)\n",
    "ax.vlines([0, 940], -250, 250)\n",
    "ax.hlines([-250, 250], 0, 940)\n",
    "ax.hlines([-80, -80, 80, 80], [0, 750] * 2, [190, 940] * 2)\n",
    "ax.hlines([-60, -60, 60, 60], [0, 750] * 2, [190, 940] * 2)\n",
    "ax.vlines([190, 750], -80, 80)\n",
    "ax.vlines(470, -250, 250)\n",
    "ax.vlines([40, 900], -30, 30)\n",
    "\n",
    "# Add the three point arc, free throw circle, midcourt circle and backboard and rim\n",
    "ax.add_patch(Arc((190, 0), 120, 120, theta1=-90, theta2=90, linewidth=2))\n",
    "ax.add_patch(Arc((190, 0), 120, 120, theta1=90, theta2=-90, linewidth=2, linestyle='dashed'))\n",
    "ax.add_patch(Arc((750, 0), 120, 120, theta1=90, theta2=-90, linewidth=2))\n",
    "ax.add_patch(Arc((750, 0), 120, 120, theta1=-90, theta2=90, linewidth=2, linestyle='dashed'))\n",
    "ax.hlines([-220, -220, 220, 220], [0, 800] * 2, [140, 940] * 2)\n",
    "ax.add_patch(Arc((47.5, 0), 475, 475, theta1=-67.5, theta2=67.5, linewidth=2))\n",
    "ax.add_patch(Arc((892.5, 0), 475, 475, theta1=112.5, theta2=-112.5, linewidth=2))\n",
    "ax.add_patch(Arc((47.5, 0), 15, 15, theta1=0, theta2=360, linewidth=2))\n",
    "ax.add_patch(Arc((892.5, 0), 15, 15, theta1=0, theta2=360, linewidth=2))\n",
    "ax.add_patch(Circle((470, 0), 60, facecolor='none', lw=2))\n",
    "fig"
   ]
  }
 ],
 "metadata": {
  "kernelspec": {
   "display_name": "Python 3",
   "language": "python",
   "name": "python3"
  },
  "language_info": {
   "codemirror_mode": {
    "name": "ipython",
    "version": 3
   },
   "file_extension": ".py",
   "mimetype": "text/x-python",
   "name": "python",
   "nbconvert_exporter": "python",
   "pygments_lexer": "ipython3",
   "version": "3.6.4"
  }
 },
 "nbformat": 4,
 "nbformat_minor": 2
}
